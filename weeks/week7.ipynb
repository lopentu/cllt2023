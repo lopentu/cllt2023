{
  "cells": [
    {
      "cell_type": "raw",
      "metadata": {},
      "source": [
        "---\n",
        "title: \"Week 7 Syntax\"\n",
        "author: \"謝舒凱 台大語言所\"\n",
        "format: \n",
        "    revealjs:\n",
        "        incremental: true\n",
        "        slide-number: true\n",
        "        preview-links: auto\n",
        "        # chalkboard: true\n",
        "        logo: ../images/logo_round.png\n",
        "bibliography: ../cllt.bib\n",
        "---"
      ],
      "id": "9891b8b8"
    },
    {
      "cell_type": "markdown",
      "metadata": {},
      "source": [
        "# 句法學\n",
        "\n",
        "\n",
        "\n",
        "\n",
        "\n",
        "\n",
        "\n",
        "```{.python code-line-numbers=\"6-8\"}\n",
        "import numpy as np\n",
        "import matplotlib.pyplot as plt\n",
        "\n",
        "r = np.arange(0, 2, 0.01)\n",
        "theta = 2 * np.pi * r\n",
        "fig, ax = plt.subplots(subplot_kw={'projection': 'polar'})\n",
        "ax.plot(theta, r)\n",
        "ax.set_rticks([0.5, 1, 1.5, 2])\n",
        "ax.grid(True)\n",
        "plt.show()\n",
        "```\n"
      ],
      "id": "171d323c"
    },
    {
      "cell_type": "code",
      "metadata": {},
      "source": [
        "alt.Chart(cars).mark_point().encode(\n",
        "    x='Horsepower',\n",
        "    y='Miles_per_Gallon',\n",
        "    color='Origin',\n",
        ").properties(\n",
        "    width=700,\n",
        "    height=300\n",
        ").interactive()"
      ],
      "id": "17b0b508",
      "execution_count": null,
      "outputs": []
    }
  ],
  "metadata": {
    "kernelspec": {
      "name": "python3",
      "language": "python",
      "display_name": "Python 3 (ipykernel)"
    }
  },
  "nbformat": 4,
  "nbformat_minor": 5
}