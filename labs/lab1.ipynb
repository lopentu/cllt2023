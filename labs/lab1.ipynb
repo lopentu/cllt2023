{
 "cells": [
  {
   "attachments": {},
   "cell_type": "markdown",
   "metadata": {},
   "source": [
    "---\n",
    "title: lab 1\n",
    "author: SK\n",
    "format:\n",
    "    html:\n",
    "        code-fold: true\n",
    "        highlight: pygments\n",
    "        theme: readable\n",
    "        toc: true\n",
    "        toc-depth: 3\n",
    "        toc-float: true\n",
    "        toc-numbered: true\n",
    "jupyter: python3\n",
    "---"
   ]
  },
  {
   "cell_type": "markdown",
   "metadata": {},
   "source": []
  }
 ],
 "metadata": {
  "kernelspec": {
   "display_name": "base",
   "language": "python",
   "name": "python3"
  },
  "language_info": {
   "name": "python",
   "version": "3.8.5"
  },
  "orig_nbformat": 4,
  "vscode": {
   "interpreter": {
    "hash": "71ae94ab9eff8c81b805a01fb5a5ad673d630c5e9a4f2a430dea96cacb68f48b"
   }
  }
 },
 "nbformat": 4,
 "nbformat_minor": 2
}
